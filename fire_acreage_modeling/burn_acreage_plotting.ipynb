{
 "cells": [
  {
   "cell_type": "markdown",
   "metadata": {},
   "source": [
    "# plot results"
   ]
  },
  {
   "cell_type": "code",
   "execution_count": 1,
   "metadata": {
    "collapsed": true
   },
   "outputs": [],
   "source": [
    "library(ggplot2)\n",
    "library(scales)"
   ]
  },
  {
   "cell_type": "code",
   "execution_count": 2,
   "metadata": {
    "collapsed": true
   },
   "outputs": [],
   "source": [
    "future = read.csv(\"F:/Users/Jason/Desktop/DOH_code/acreage_predictions.csv\", header=T)"
   ]
  },
  {
   "cell_type": "code",
   "execution_count": 3,
   "metadata": {
    "collapsed": false
   },
   "outputs": [
    {
     "data": {},
     "metadata": {},
     "output_type": "display_data"
    },
    {
     "data": {
      "image/png": "[encoded data removed]",
      "text/plain": [
       "plot without title"
      ]
     },
     "metadata": {},
     "output_type": "display_data"
    }
   ],
   "source": [
    "future$PERIOD = factor(future$PERIOD, c(\"1986 to 2005\", \"2040 to 2059\", \"2080 to 2099\"))\n",
    "ggplot(aes(y = predicted_acreage, x = PERIOD, fill = SCENARIO), data = future) + \n",
    "           geom_boxplot() + \n",
    "           theme(panel.background = element_blank(),\n",
    "                 panel.grid.major = element_blank(), \n",
    "                 panel.grid.minor = element_blank(),\n",
    "                 axis.line = element_line(colour = \"black\"),\n",
    "                 panel.border = element_rect(colour = \"black\", fill=NA, size=2)) +\n",
    "           scale_y_continuous(labels = comma) + \n",
    "           ylab('predicted acres burned per year')\n",
    "           \n"
   ]
  },
  {
   "cell_type": "code",
   "execution_count": null,
   "metadata": {
    "collapsed": true
   },
   "outputs": [],
   "source": []
  }
 ],
 "metadata": {
  "kernelspec": {
   "display_name": "R",
   "language": "R",
   "name": "ir"
  },
  "language_info": {
   "codemirror_mode": "r",
   "file_extension": ".r",
   "mimetype": "text/x-r-source",
   "name": "R",
   "pygments_lexer": "r",
   "version": "3.3.1"
  }
 },
 "nbformat": 4,
 "nbformat_minor": 0
}
